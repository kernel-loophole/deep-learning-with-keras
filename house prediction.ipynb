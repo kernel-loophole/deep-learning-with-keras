{
  "nbformat": 4,
  "nbformat_minor": 0,
  "metadata": {
    "colab": {
      "name": "house predictions.ipynb",
      "provenance": [],
      "collapsed_sections": []
    },
    "kernelspec": {
      "name": "python3",
      "display_name": "Python 3"
    },
    "language_info": {
      "name": "python"
    }
  },
  "cells": [
    {
      "cell_type": "code",
      "execution_count": 1,
      "metadata": {
        "id": "w8lk6DJgTjLx"
      },
      "outputs": [],
      "source": [
        "from keras.datasets import boston_housing\n",
        "from keras import models\n",
        "from keras import layers\n",
        "import numpy as np\n",
        "import matplotlib.pyplot as plt\n"
      ]
    },
    {
      "cell_type": "code",
      "source": [
        "\n",
        "(train_data,train_targets),(test_data,test_targets)=boston_housing.load_data()"
      ],
      "metadata": {
        "id": "mflb1Nxqssmi",
        "colab": {
          "base_uri": "https://localhost:8080/"
        },
        "outputId": "74f93144-35d5-4913-9b31-331542ebed9e"
      },
      "execution_count": 2,
      "outputs": [
        {
          "output_type": "stream",
          "name": "stdout",
          "text": [
            "Downloading data from https://storage.googleapis.com/tensorflow/tf-keras-datasets/boston_housing.npz\n",
            "57344/57026 [==============================] - 0s 0us/step\n",
            "65536/57026 [==================================] - 0s 0us/step\n"
          ]
        }
      ]
    },
    {
      "cell_type": "code",
      "source": [
        "print(\"training data point====>\",len(train_data))\n",
        "print(\"testing data points====>\",len(test_data))"
      ],
      "metadata": {
        "colab": {
          "base_uri": "https://localhost:8080/"
        },
        "id": "cpOJgnwjtOpN",
        "outputId": "65c8d1d8-be07-4e79-bce5-edd968d1a3e0"
      },
      "execution_count": 3,
      "outputs": [
        {
          "output_type": "stream",
          "name": "stdout",
          "text": [
            "training data point====> 404\n",
            "testing data points====> 102\n"
          ]
        }
      ]
    },
    {
      "cell_type": "code",
      "source": [
        "print(train_data.shape)\n",
        "print(test_data.shape)\n",
        "#13 features"
      ],
      "metadata": {
        "colab": {
          "base_uri": "https://localhost:8080/"
        },
        "id": "703iUpE8tRWc",
        "outputId": "aaf320a4-1727-43cb-c218-42a7ef67eca2"
      },
      "execution_count": 4,
      "outputs": [
        {
          "output_type": "stream",
          "name": "stdout",
          "text": [
            "(404, 13)\n",
            "(102, 13)\n"
          ]
        }
      ]
    },
    {
      "cell_type": "code",
      "source": [
        "print(train_data)"
      ],
      "metadata": {
        "colab": {
          "base_uri": "https://localhost:8080/"
        },
        "id": "LI0KQcu-t79W",
        "outputId": "0c2ff253-a09b-44a5-af9d-fe4bb0b836a6"
      },
      "execution_count": 5,
      "outputs": [
        {
          "output_type": "stream",
          "name": "stdout",
          "text": [
            "[[1.23247e+00 0.00000e+00 8.14000e+00 ... 2.10000e+01 3.96900e+02\n",
            "  1.87200e+01]\n",
            " [2.17700e-02 8.25000e+01 2.03000e+00 ... 1.47000e+01 3.95380e+02\n",
            "  3.11000e+00]\n",
            " [4.89822e+00 0.00000e+00 1.81000e+01 ... 2.02000e+01 3.75520e+02\n",
            "  3.26000e+00]\n",
            " ...\n",
            " [3.46600e-02 3.50000e+01 6.06000e+00 ... 1.69000e+01 3.62250e+02\n",
            "  7.83000e+00]\n",
            " [2.14918e+00 0.00000e+00 1.95800e+01 ... 1.47000e+01 2.61950e+02\n",
            "  1.57900e+01]\n",
            " [1.43900e-02 6.00000e+01 2.93000e+00 ... 1.56000e+01 3.76700e+02\n",
            "  4.38000e+00]]\n"
          ]
        }
      ]
    },
    {
      "cell_type": "code",
      "source": [
        "#feature-wise normalization: \n",
        "print(\"before normilization\")\n",
        "print(train_data)\n",
        "mean = train_data.mean(axis=0) \n",
        "train_data -= mean\n",
        "std = train_data.std(axis=0) \n",
        "train_data /= std\n",
        "test_data -= mean \n",
        "test_data /= std\n",
        "print(\"after\")\n",
        "print(train_data)"
      ],
      "metadata": {
        "colab": {
          "base_uri": "https://localhost:8080/"
        },
        "id": "c5lg9ZxXvHvl",
        "outputId": "b452d98b-aa0f-4b67-c221-e4247e3f35bc"
      },
      "execution_count": 6,
      "outputs": [
        {
          "output_type": "stream",
          "name": "stdout",
          "text": [
            "before normilization\n",
            "[[1.23247e+00 0.00000e+00 8.14000e+00 ... 2.10000e+01 3.96900e+02\n",
            "  1.87200e+01]\n",
            " [2.17700e-02 8.25000e+01 2.03000e+00 ... 1.47000e+01 3.95380e+02\n",
            "  3.11000e+00]\n",
            " [4.89822e+00 0.00000e+00 1.81000e+01 ... 2.02000e+01 3.75520e+02\n",
            "  3.26000e+00]\n",
            " ...\n",
            " [3.46600e-02 3.50000e+01 6.06000e+00 ... 1.69000e+01 3.62250e+02\n",
            "  7.83000e+00]\n",
            " [2.14918e+00 0.00000e+00 1.95800e+01 ... 1.47000e+01 2.61950e+02\n",
            "  1.57900e+01]\n",
            " [1.43900e-02 6.00000e+01 2.93000e+00 ... 1.56000e+01 3.76700e+02\n",
            "  4.38000e+00]]\n",
            "after\n",
            "[[-0.27224633 -0.48361547 -0.43576161 ...  1.14850044  0.44807713\n",
            "   0.8252202 ]\n",
            " [-0.40342651  2.99178419 -1.33391162 ... -1.71818909  0.43190599\n",
            "  -1.32920239]\n",
            " [ 0.1249402  -0.48361547  1.0283258  ...  0.78447637  0.22061726\n",
            "  -1.30850006]\n",
            " ...\n",
            " [-0.40202987  0.99079651 -0.7415148  ... -0.71712291  0.07943894\n",
            "  -0.67776904]\n",
            " [-0.17292018 -0.48361547  1.24588095 ... -1.71818909 -0.98764362\n",
            "   0.42083466]\n",
            " [-0.40422614  2.04394792 -1.20161456 ... -1.30866202  0.23317118\n",
            "  -1.15392266]]\n"
          ]
        }
      ]
    },
    {
      "cell_type": "code",
      "source": [
        "def build_model():\n",
        "  model=models.Sequential()\n",
        "  model.add(layers.Dense(64, activation='relu',\n",
        "  input_shape=(train_data.shape[1],)))\n",
        "  model.add(layers.Dense(64, activation='relu'))\n",
        "  model.add(layers.Dense(1))\n",
        "  model.compile(optimizer='rmsprop', loss='mse', metrics=['mae']) \n",
        "  return model"
      ],
      "metadata": {
        "id": "OOO8kQ5CvhHR"
      },
      "execution_count": 7,
      "outputs": []
    },
    {
      "cell_type": "code",
      "source": [
        "#K-fold validation\n",
        "k=4\n",
        "num_val_samples = len(train_data) // k \n",
        "# print(num_val_samples)\n",
        "num_epochs = 100\n",
        "all_scores = []\n",
        "all_mae_histories = []\n",
        "print(\"after multiple\")\n",
        "# print(train_data[1*num_val_samples:(1+1)*num_val_samples])\n",
        "print(train_data[1:10])"
      ],
      "metadata": {
        "id": "9a6AIUWkw3oC",
        "colab": {
          "base_uri": "https://localhost:8080/"
        },
        "outputId": "e0046860-4fd4-4872-eceb-49fc9a856e99"
      },
      "execution_count": 38,
      "outputs": [
        {
          "output_type": "stream",
          "name": "stdout",
          "text": [
            "after multiple\n",
            "[[-0.40342651  2.99178419 -1.33391162 -0.25683275 -1.21518188  1.89434613\n",
            "  -1.91036058  1.24758524 -0.85646254 -0.34843254 -1.71818909  0.43190599\n",
            "  -1.32920239]\n",
            " [ 0.1249402  -0.48361547  1.0283258  -0.25683275  0.62864202 -1.82968811\n",
            "   1.11048828 -1.18743907  1.67588577  1.5652875   0.78447637  0.22061726\n",
            "  -1.30850006]\n",
            " [-0.40149354 -0.48361547 -0.86940196 -0.25683275 -0.3615597  -0.3245576\n",
            "  -1.23667187  1.10717989 -0.51114231 -1.094663    0.78447637  0.44807713\n",
            "  -0.65292624]\n",
            " [-0.0056343  -0.48361547  1.0283258  -0.25683275  1.32861221  0.15364225\n",
            "   0.69480801 -0.57857203  1.67588577  1.5652875   0.78447637  0.3898823\n",
            "   0.26349695]\n",
            " [-0.37502238 -0.48361547 -0.54747912 -0.25683275 -0.54935658 -0.78865126\n",
            "   0.18954148  0.48371503 -0.51114231 -0.71552978  0.51145832  0.38669063\n",
            "  -0.13812828]\n",
            " [ 0.58963463 -0.48361547  1.0283258  -0.25683275  1.21764133 -1.03127774\n",
            "   1.11048828 -1.06518235  1.67588577  1.5652875   0.78447637  0.44807713\n",
            "   1.49873604]\n",
            " [ 0.0381708  -0.48361547  1.24588095 -0.25683275  2.67733525 -1.12719983\n",
            "   1.11048828 -1.14833073 -0.51114231 -0.01744323 -1.71818909  0.44807713\n",
            "   1.88793986]\n",
            " [-0.17228416 -0.48361547  1.24588095 -0.25683275  2.67733525 -0.90150078\n",
            "   1.11048828 -1.09664657 -0.51114231 -0.01744323 -1.71818909 -1.97365769\n",
            "   0.53952803]\n",
            " [-0.22932104 -0.48361547  1.58544339 -0.25683275  0.56888847 -1.76056777\n",
            "   1.11048828 -1.13471925 -0.62624905  0.18716835  1.23950646  0.44807713\n",
            "   2.99068404]]\n"
          ]
        }
      ]
    },
    {
      "cell_type": "code",
      "source": [
        "for i in range(k):\n",
        "  print('processing fold #', i+1)\n",
        "  # make the folds of data points \n",
        "  # simple slicing of original data \n",
        "  # first from k=[0:101] k=[101:202] and so on\n",
        "  l_data = train_data[i * num_val_samples: (i + 1) * num_val_samples]\n",
        "\n",
        "  val_data = train_data[i * num_val_samples: (i + 1) * num_val_samples]\n",
        "  val_targets = train_targets[i * num_val_samples: (i + 1) * num_val_samples]\n",
        "  print(\"picking data points from ==>\",\"[\",i * num_val_samples,(i + 1) * num_val_samples,\"]\")\n",
        "  partial_train_data = np.concatenate(\n",
        "  [train_data[:i * num_val_samples], \n",
        "  train_data[(i + 1) * num_val_samples:]],\n",
        "  axis=0)\n",
        "  print(\"shape of partial data===>\",len(partial_train_data))\n",
        "  partial_train_targets = np.concatenate(\n",
        "  [train_targets[:i * num_val_samples], \n",
        "  train_targets[(i + 1) * num_val_samples:]],\n",
        "  axis=0)\n",
        "  model = build_model()\n",
        "  #save history \n",
        "  history = model.fit(partial_train_data, partial_train_targets,\n",
        "                                                                  validation_data=(val_data, val_targets), \n",
        "  epochs=num_epochs, batch_size=1, verbose=0)\n",
        "  mae_history = history.history['val_mae']\n",
        "  all_mae_histories.append(mae_history)"
      ],
      "metadata": {
        "id": "_98Dm87MxI1K",
        "colab": {
          "base_uri": "https://localhost:8080/"
        },
        "outputId": "c0367528-ad60-4d8f-dcb0-1859518da4ca"
      },
      "execution_count": 39,
      "outputs": [
        {
          "output_type": "stream",
          "name": "stdout",
          "text": [
            "processing fold # 1\n",
            "picking data points from ==> [ 0 101 ]\n",
            "shape of partial data===> 303\n",
            "processing fold # 2\n",
            "picking data points from ==> [ 101 202 ]\n",
            "shape of partial data===> 303\n",
            "processing fold # 3\n",
            "picking data points from ==> [ 202 303 ]\n",
            "shape of partial data===> 303\n",
            "processing fold # 4\n",
            "picking data points from ==> [ 303 404 ]\n",
            "shape of partial data===> 303\n"
          ]
        }
      ]
    },
    {
      "cell_type": "code",
      "source": [
        "average_mae_history = [\n",
        "np.mean([x[i] for x in all_mae_histories]) for i in range(num_epochs)]\n",
        "\n",
        "###########simple loops #####\n",
        "\n",
        "# for i in range(num_epochs):\n",
        "#   for x in all_mae_histories:\n",
        "#     print(np.mean(x[i]))\n",
        "    \n",
        "average_mae_history"
      ],
      "metadata": {
        "id": "bosDk3kpxxS3",
        "colab": {
          "base_uri": "https://localhost:8080/"
        },
        "outputId": "b1b346e1-a600-4a05-e25a-065bb634907e"
      },
      "execution_count": 40,
      "outputs": [
        {
          "output_type": "execute_result",
          "data": {
            "text/plain": [
              "[4.5774834752082825,\n",
              " 3.366093695163727,\n",
              " 3.078710913658142,\n",
              " 2.8868905305862427,\n",
              " 2.8104668259620667,\n",
              " 2.7340750098228455,\n",
              " 2.695561707019806,\n",
              " 2.8305659890174866,\n",
              " 2.608887255191803,\n",
              " 2.6649394631385803,\n",
              " 2.4966453909873962,\n",
              " 2.5149911642074585,\n",
              " 2.484138786792755,\n",
              " 2.654656946659088,\n",
              " 2.5162892937660217,\n",
              " 2.366157740354538,\n",
              " 2.5253041982650757,\n",
              " 2.5433560609817505,\n",
              " 2.362915575504303,\n",
              " 2.4017087817192078,\n",
              " 2.403900682926178,\n",
              " 2.4650229811668396,\n",
              " 2.4868013858795166,\n",
              " 2.4238241314888,\n",
              " 2.380039393901825,\n",
              " 2.4139857292175293,\n",
              " 2.6535908579826355,\n",
              " 2.350806772708893,\n",
              " 2.4017279744148254,\n",
              " 2.375669538974762,\n",
              " 2.3356005549430847,\n",
              " 2.3959012031555176,\n",
              " 2.3490048944950104,\n",
              " 2.244969457387924,\n",
              " 2.35337033867836,\n",
              " 2.340932071208954,\n",
              " 2.391518235206604,\n",
              " 2.2934526205062866,\n",
              " 2.2878545820713043,\n",
              " 2.375750243663788,\n",
              " 2.400167405605316,\n",
              " 2.5237702131271362,\n",
              " 2.4119818806648254,\n",
              " 2.2689933478832245,\n",
              " 2.3282892405986786,\n",
              " 2.364932596683502,\n",
              " 2.3149100244045258,\n",
              " 2.3147449791431427,\n",
              " 2.387040078639984,\n",
              " 2.426270991563797,\n",
              " 2.597260057926178,\n",
              " 2.4009597301483154,\n",
              " 2.31964835524559,\n",
              " 2.3550492227077484,\n",
              " 2.431690216064453,\n",
              " 2.3383156061172485,\n",
              " 2.3480968475341797,\n",
              " 2.496450960636139,\n",
              " 2.356396973133087,\n",
              " 2.3870579600334167,\n",
              " 2.337794244289398,\n",
              " 2.4053964614868164,\n",
              " 2.356914222240448,\n",
              " 2.3461532592773438,\n",
              " 2.4017982482910156,\n",
              " 2.2147756814956665,\n",
              " 2.3423866629600525,\n",
              " 2.4062447547912598,\n",
              " 2.3260064125061035,\n",
              " 2.3106189370155334,\n",
              " 2.5855366587638855,\n",
              " 2.2609610557556152,\n",
              " 2.2882109582424164,\n",
              " 2.3568885922431946,\n",
              " 2.443351984024048,\n",
              " 2.4737008213996887,\n",
              " 2.453020066022873,\n",
              " 2.371186465024948,\n",
              " 2.6085646748542786,\n",
              " 2.430744171142578,\n",
              " 2.4351441860198975,\n",
              " 2.3218798637390137,\n",
              " 2.3497434258461,\n",
              " 2.3624865412712097,\n",
              " 2.525749623775482,\n",
              " 2.5505661964416504,\n",
              " 2.3808050751686096,\n",
              " 2.3091746270656586,\n",
              " 2.487208664417267,\n",
              " 2.402629852294922,\n",
              " 2.4744057059288025,\n",
              " 2.4731024503707886,\n",
              " 2.460727035999298,\n",
              " 2.412159502506256,\n",
              " 2.3953943848609924,\n",
              " 2.4846594631671906,\n",
              " 2.398045837879181,\n",
              " 2.3301387429237366,\n",
              " 2.3555159866809845,\n",
              " 2.427088677883148]"
            ]
          },
          "metadata": {},
          "execution_count": 40
        }
      ]
    },
    {
      "cell_type": "code",
      "source": [
        "plt.plot(range(1, len(average_mae_history) + 1), average_mae_history)\n",
        "plt.xlabel('Epochs')\n",
        "plt.ylabel('Validation MAE')\n",
        "plt.show()"
      ],
      "metadata": {
        "id": "eGJf1WRIkqAG",
        "colab": {
          "base_uri": "https://localhost:8080/",
          "height": 279
        },
        "outputId": "a6e405f4-3835-4355-f031-461693fa3a9c"
      },
      "execution_count": 41,
      "outputs": [
        {
          "output_type": "display_data",
          "data": {
            "text/plain": [
              "<Figure size 432x288 with 1 Axes>"
            ],
            "image/png": "[encoded data removed]"
          },
          "metadata": {
            "needs_background": "light"
          }
        }
      ]
    },
    {
      "cell_type": "code",
      "source": [
        ""
      ],
      "metadata": {
        "id": "zP_-VBPV0iuB"
      },
      "execution_count": null,
      "outputs": []
    }
  ]
}