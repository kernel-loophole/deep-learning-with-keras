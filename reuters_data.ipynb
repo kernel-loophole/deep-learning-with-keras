{
  "nbformat": 4,
  "nbformat_minor": 0,
  "metadata": {
    "colab": {
      "name": "reuters_data.ipynb",
      "provenance": [],
      "collapsed_sections": []
    },
    "kernelspec": {
      "name": "python3",
      "display_name": "Python 3"
    },
    "language_info": {
      "name": "python"
    }
  },
  "cells": [
    {
      "cell_type": "code",
      "execution_count": 24,
      "metadata": {
        "id": "5U8KVLAOIjd7"
      },
      "outputs": [],
      "source": [
        "from keras import models\n",
        "from keras import layers\n",
        "from keras.datasets import reuters\n",
        "#reuters dataset for training and testing\n",
        "from keras.utils.np_utils import to_categorical\n",
        "from keras.backend import categorical_crossentropy\n",
        "import numpy as np\n",
        "import pandas as pd\n",
        "import matplotlib.pyplot as plt\n",
        "import copy\n",
        "from keras.models import Model"
      ]
    },
    {
      "cell_type": "code",
      "source": [
        "(train_data,train_labels),(test_data,test_labels)=reuters.load_data(num_words=10000)"
      ],
      "metadata": {
        "id": "XRJi7aiPI4_A",
        "colab": {
          "base_uri": "https://localhost:8080/"
        },
        "outputId": "2e208d86-5479-423f-f927-c572ef7f1e2b"
      },
      "execution_count": 4,
      "outputs": [
        {
          "output_type": "stream",
          "name": "stdout",
          "text": [
            "Downloading data from https://storage.googleapis.com/tensorflow/tf-keras-datasets/reuters.npz\n",
            "2113536/2110848 [==============================] - 0s 0us/step\n",
            "2121728/2110848 [==============================] - 0s 0us/step\n"
          ]
        }
      ]
    },
    {
      "cell_type": "code",
      "source": [
        "# print(len(train_data),len(test_data))\n",
        "# print(len(train_labels),len(test_labels))\n",
        "\n",
        "df1=pd.DataFrame(train_data)\n",
        "df1"
      ],
      "metadata": {
        "id": "e5ow0MwLJbzf",
        "colab": {
          "base_uri": "https://localhost:8080/",
          "height": 424
        },
        "outputId": "e403393c-5c4a-4c57-e5b7-d79b6bbe4607"
      },
      "execution_count": 5,
      "outputs": [
        {
          "output_type": "execute_result",
          "data": {
            "text/plain": [
              "                                                      0\n",
              "0     [1, 2, 2, 8, 43, 10, 447, 5, 25, 207, 270, 5, ...\n",
              "1     [1, 3267, 699, 3434, 2295, 56, 2, 7511, 9, 56,...\n",
              "2     [1, 53, 12, 284, 15, 14, 272, 26, 53, 959, 32,...\n",
              "3     [1, 4, 686, 867, 558, 4, 37, 38, 309, 2276, 46...\n",
              "4     [1, 8295, 111, 8, 25, 166, 40, 638, 10, 436, 2...\n",
              "...                                                 ...\n",
              "8977  [1, 313, 262, 2529, 1426, 8, 130, 40, 129, 363...\n",
              "8978  [1, 4, 96, 5, 340, 3976, 23, 328, 6, 154, 7, 4...\n",
              "8979  [1, 141, 3890, 387, 81, 8, 16, 1629, 10, 340, ...\n",
              "8980  [1, 53, 46, 957, 26, 14, 74, 132, 26, 39, 46, ...\n",
              "8981  [1, 227, 2406, 91, 2, 125, 2855, 21, 4, 3976, ...\n",
              "\n",
              "[8982 rows x 1 columns]"
            ],
            "text/html": [
              "\n",
              "  <div id=\"df-697184c3-6613-4080-8ffc-b7286c230c41\">\n",
              "    <div class=\"colab-df-container\">\n",
              "      <div>\n",
              "<style scoped>\n",
              "    .dataframe tbody tr th:only-of-type {\n",
              "        vertical-align: middle;\n",
              "    }\n",
              "\n",
              "    .dataframe tbody tr th {\n",
              "        vertical-align: top;\n",
              "    }\n",
              "\n",
              "    .dataframe thead th {\n",
              "        text-align: right;\n",
              "    }\n",
              "</style>\n",
              "<table border=\"1\" class=\"dataframe\">\n",
              "  <thead>\n",
              "    <tr style=\"text-align: right;\">\n",
              "      <th></th>\n",
              "      <th>0</th>\n",
              "    </tr>\n",
              "  </thead>\n",
              "  <tbody>\n",
              "    <tr>\n",
              "      <th>0</th>\n",
              "      <td>[1, 2, 2, 8, 43, 10, 447, 5, 25, 207, 270, 5, ...</td>\n",
              "    </tr>\n",
              "    <tr>\n",
              "      <th>1</th>\n",
              "      <td>[1, 3267, 699, 3434, 2295, 56, 2, 7511, 9, 56,...</td>\n",
              "    </tr>\n",
              "    <tr>\n",
              "      <th>2</th>\n",
              "      <td>[1, 53, 12, 284, 15, 14, 272, 26, 53, 959, 32,...</td>\n",
              "    </tr>\n",
              "    <tr>\n",
              "      <th>3</th>\n",
              "      <td>[1, 4, 686, 867, 558, 4, 37, 38, 309, 2276, 46...</td>\n",
              "    </tr>\n",
              "    <tr>\n",
              "      <th>4</th>\n",
              "      <td>[1, 8295, 111, 8, 25, 166, 40, 638, 10, 436, 2...</td>\n",
              "    </tr>\n",
              "    <tr>\n",
              "      <th>...</th>\n",
              "      <td>...</td>\n",
              "    </tr>\n",
              "    <tr>\n",
              "      <th>8977</th>\n",
              "      <td>[1, 313, 262, 2529, 1426, 8, 130, 40, 129, 363...</td>\n",
              "    </tr>\n",
              "    <tr>\n",
              "      <th>8978</th>\n",
              "      <td>[1, 4, 96, 5, 340, 3976, 23, 328, 6, 154, 7, 4...</td>\n",
              "    </tr>\n",
              "    <tr>\n",
              "      <th>8979</th>\n",
              "      <td>[1, 141, 3890, 387, 81, 8, 16, 1629, 10, 340, ...</td>\n",
              "    </tr>\n",
              "    <tr>\n",
              "      <th>8980</th>\n",
              "      <td>[1, 53, 46, 957, 26, 14, 74, 132, 26, 39, 46, ...</td>\n",
              "    </tr>\n",
              "    <tr>\n",
              "      <th>8981</th>\n",
              "      <td>[1, 227, 2406, 91, 2, 125, 2855, 21, 4, 3976, ...</td>\n",
              "    </tr>\n",
              "  </tbody>\n",
              "</table>\n",
              "<p>8982 rows × 1 columns</p>\n",
              "</div>\n",
              "      <button class=\"colab-df-convert\" onclick=\"convertToInteractive('df-697184c3-6613-4080-8ffc-b7286c230c41')\"\n",
              "              title=\"Convert this dataframe to an interactive table.\"\n",
              "              style=\"display:none;\">\n",
              "        \n",
              "  <svg xmlns=\"http://www.w3.org/2000/svg\" height=\"24px\"viewBox=\"0 0 24 24\"\n",
              "       width=\"24px\">\n",
              "    <path d=\"M0 0h24v24H0V0z\" fill=\"none\"/>\n",
              "    <path d=\"M18.56 5.44l.94 2.06.94-2.06 2.06-.94-2.06-.94-.94-2.06-.94 2.06-2.06.94zm-11 1L8.5 8.5l.94-2.06 2.06-.94-2.06-.94L8.5 2.5l-.94 2.06-2.06.94zm10 10l.94 2.06.94-2.06 2.06-.94-2.06-.94-.94-2.06-.94 2.06-2.06.94z\"/><path d=\"M17.41 7.96l-1.37-1.37c-.4-.4-.92-.59-1.43-.59-.52 0-1.04.2-1.43.59L10.3 9.45l-7.72 7.72c-.78.78-.78 2.05 0 2.83L4 21.41c.39.39.9.59 1.41.59.51 0 1.02-.2 1.41-.59l7.78-7.78 2.81-2.81c.8-.78.8-2.07 0-2.86zM5.41 20L4 18.59l7.72-7.72 1.47 1.35L5.41 20z\"/>\n",
              "  </svg>\n",
              "      </button>\n",
              "      \n",
              "  <style>\n",
              "    .colab-df-container {\n",
              "      display:flex;\n",
              "      flex-wrap:wrap;\n",
              "      gap: 12px;\n",
              "    }\n",
              "\n",
              "    .colab-df-convert {\n",
              "      background-color: #E8F0FE;\n",
              "      border: none;\n",
              "      border-radius: 50%;\n",
              "      cursor: pointer;\n",
              "      display: none;\n",
              "      fill: #1967D2;\n",
              "      height: 32px;\n",
              "      padding: 0 0 0 0;\n",
              "      width: 32px;\n",
              "    }\n",
              "\n",
              "    .colab-df-convert:hover {\n",
              "      background-color: #E2EBFA;\n",
              "      box-shadow: 0px 1px 2px rgba(60, 64, 67, 0.3), 0px 1px 3px 1px rgba(60, 64, 67, 0.15);\n",
              "      fill: #174EA6;\n",
              "    }\n",
              "\n",
              "    [theme=dark] .colab-df-convert {\n",
              "      background-color: #3B4455;\n",
              "      fill: #D2E3FC;\n",
              "    }\n",
              "\n",
              "    [theme=dark] .colab-df-convert:hover {\n",
              "      background-color: #434B5C;\n",
              "      box-shadow: 0px 1px 3px 1px rgba(0, 0, 0, 0.15);\n",
              "      filter: drop-shadow(0px 1px 2px rgba(0, 0, 0, 0.3));\n",
              "      fill: #FFFFFF;\n",
              "    }\n",
              "  </style>\n",
              "\n",
              "      <script>\n",
              "        const buttonEl =\n",
              "          document.querySelector('#df-697184c3-6613-4080-8ffc-b7286c230c41 button.colab-df-convert');\n",
              "        buttonEl.style.display =\n",
              "          google.colab.kernel.accessAllowed ? 'block' : 'none';\n",
              "\n",
              "        async function convertToInteractive(key) {\n",
              "          const element = document.querySelector('#df-697184c3-6613-4080-8ffc-b7286c230c41');\n",
              "          const dataTable =\n",
              "            await google.colab.kernel.invokeFunction('convertToInteractive',\n",
              "                                                     [key], {});\n",
              "          if (!dataTable) return;\n",
              "\n",
              "          const docLinkHtml = 'Like what you see? Visit the ' +\n",
              "            '<a target=\"_blank\" href=https://colab.research.google.com/notebooks/data_table.ipynb>data table notebook</a>'\n",
              "            + ' to learn more about interactive tables.';\n",
              "          element.innerHTML = '';\n",
              "          dataTable['output_type'] = 'display_data';\n",
              "          await google.colab.output.renderOutput(dataTable, element);\n",
              "          const docLink = document.createElement('div');\n",
              "          docLink.innerHTML = docLinkHtml;\n",
              "          element.appendChild(docLink);\n",
              "        }\n",
              "      </script>\n",
              "    </div>\n",
              "  </div>\n",
              "  "
            ]
          },
          "metadata": {},
          "execution_count": 5
        }
      ]
    },
    {
      "cell_type": "code",
      "source": [
        "x=list([1,2,3,0,4])"
      ],
      "metadata": {
        "id": "DH4JYHI9Jfyy"
      },
      "execution_count": 6,
      "outputs": []
    },
    {
      "cell_type": "code",
      "source": [
        "r=np.zeros(len(x))\n",
        "for i ,s in enumerate(x):\n",
        "  r[i]=1\n"
      ],
      "metadata": {
        "id": "0kRx52VnP6Zr"
      },
      "execution_count": 7,
      "outputs": []
    },
    {
      "cell_type": "code",
      "source": [
        "\n",
        "network=models.Sequential()\n",
        "network.add(layers.Dense(64,activation='relu',input_shape=(10000,)))\n",
        "network.add(layers.Dense(64,activation='relu'))\n",
        "network.add(layers.Dense(46,activation='softmax'))\n",
        "#relu fn for maximum output\n"
      ],
      "metadata": {
        "id": "EvQ73vuYQiq8"
      },
      "execution_count": 8,
      "outputs": []
    },
    {
      "cell_type": "code",
      "source": [
        "\n",
        "network.compile(optimizer='rmsprop',loss=categorical_crossentropy,metrics=['accuracy'])"
      ],
      "metadata": {
        "id": "c6rXhuMDi-ek"
      },
      "execution_count": 9,
      "outputs": []
    },
    {
      "cell_type": "code",
      "source": [
        "def to_one_hot(labels, dimension=46):\n",
        "  results = np.zeros((len(labels), dimension))\n",
        "  for i, label in enumerate(labels):\n",
        "    results[i, label] = 1.\n",
        "  return results"
      ],
      "metadata": {
        "id": "RR11MM8jjdks"
      },
      "execution_count": 10,
      "outputs": []
    },
    {
      "cell_type": "code",
      "source": [
        "# fn to convert dataset in numpy array so it will feed to network\n",
        "def vectorize_sequences(sequences, dimension=10000):\n",
        "  results = np.zeros((len(sequences), dimension))\n",
        "  print(results.shape)\n",
        "  for i, sequence in enumerate(sequences):\n",
        "    results[i, sequence] = 1.\n",
        "  return results\n"
      ],
      "metadata": {
        "id": "FBtwD3tmkKKL"
      },
      "execution_count": 11,
      "outputs": []
    },
    {
      "cell_type": "code",
      "source": [
        "x_train = vectorize_sequences(train_data)\n",
        "x_test = vectorize_sequences(test_data)"
      ],
      "metadata": {
        "id": "9zkFG2J3kgsH",
        "colab": {
          "base_uri": "https://localhost:8080/"
        },
        "outputId": "4c724571-7042-4c1b-ee70-2282c2f3a8c1"
      },
      "execution_count": 12,
      "outputs": [
        {
          "output_type": "stream",
          "name": "stdout",
          "text": [
            "(8982, 10000)\n",
            "(2246, 10000)\n"
          ]
        }
      ]
    },
    {
      "cell_type": "code",
      "source": [
        "#built in way to convert dataset into to one hot encoding \n",
        "one_hot_train_labels=to_categorical(train_labels)\n",
        "one_hot_test_labels=to_categorical(test_labels)\n",
        "print(one_hot_train_labels.shape)\n",
        "print(one_hot_train_labels.shape)\n"
      ],
      "metadata": {
        "colab": {
          "base_uri": "https://localhost:8080/"
        },
        "id": "8eCpTrhAk_Pp",
        "outputId": "7a5846ef-811c-4998-a71b-168f3ca759b3"
      },
      "execution_count": 13,
      "outputs": [
        {
          "output_type": "stream",
          "name": "stdout",
          "text": [
            "(8982, 46)\n",
            "(8982, 46)\n"
          ]
        }
      ]
    },
    {
      "cell_type": "code",
      "source": [
        "x_val = x_train[:1000]\n",
        "partial_x_train = x_train[1000:]\n",
        "y_val = one_hot_train_labels[:1000]\n",
        "partial_y_train = one_hot_train_labels[1000:]"
      ],
      "metadata": {
        "id": "ptPKj2jOmGg0"
      },
      "execution_count": 14,
      "outputs": []
    },
    {
      "cell_type": "code",
      "source": [
        "history=network.fit(partial_x_train,partial_y_train,epochs=10,batch_size=512,validation_data=(x_val,y_val))"
      ],
      "metadata": {
        "colab": {
          "base_uri": "https://localhost:8080/"
        },
        "id": "1d-lbdZkmOJV",
        "outputId": "4a8bec34-c1c6-4fe0-ec37-f39adbd84bab"
      },
      "execution_count": 15,
      "outputs": [
        {
          "output_type": "stream",
          "name": "stdout",
          "text": [
            "Epoch 1/10\n",
            "16/16 [==============================] - 2s 63ms/step - loss: 2.6281 - accuracy: 0.4929 - val_loss: 1.7369 - val_accuracy: 0.6300\n",
            "Epoch 2/10\n",
            "16/16 [==============================] - 1s 49ms/step - loss: 1.4081 - accuracy: 0.7062 - val_loss: 1.2855 - val_accuracy: 0.7230\n",
            "Epoch 3/10\n",
            "16/16 [==============================] - 1s 47ms/step - loss: 1.0312 - accuracy: 0.7830 - val_loss: 1.1202 - val_accuracy: 0.7650\n",
            "Epoch 4/10\n",
            "16/16 [==============================] - 1s 49ms/step - loss: 0.8043 - accuracy: 0.8310 - val_loss: 1.0161 - val_accuracy: 0.7910\n",
            "Epoch 5/10\n",
            "16/16 [==============================] - 1s 47ms/step - loss: 0.6413 - accuracy: 0.8677 - val_loss: 0.9802 - val_accuracy: 0.7930\n",
            "Epoch 6/10\n",
            "16/16 [==============================] - 1s 48ms/step - loss: 0.5085 - accuracy: 0.8963 - val_loss: 0.9151 - val_accuracy: 0.8090\n",
            "Epoch 7/10\n",
            "16/16 [==============================] - 1s 47ms/step - loss: 0.4084 - accuracy: 0.9171 - val_loss: 0.9254 - val_accuracy: 0.8080\n",
            "Epoch 8/10\n",
            "16/16 [==============================] - 1s 49ms/step - loss: 0.3370 - accuracy: 0.9295 - val_loss: 0.8847 - val_accuracy: 0.8160\n",
            "Epoch 9/10\n",
            "16/16 [==============================] - 1s 50ms/step - loss: 0.2795 - accuracy: 0.9391 - val_loss: 0.8914 - val_accuracy: 0.8200\n",
            "Epoch 10/10\n",
            "16/16 [==============================] - 1s 80ms/step - loss: 0.2362 - accuracy: 0.9473 - val_loss: 1.0043 - val_accuracy: 0.7950\n"
          ]
        }
      ]
    },
    {
      "cell_type": "code",
      "source": [
        "loss = history.history['loss']\n",
        "val_loss = history.history['val_loss']\n",
        "print(loss)\n",
        "print(val_loss)"
      ],
      "metadata": {
        "colab": {
          "base_uri": "https://localhost:8080/"
        },
        "id": "IIi1ndGHmWuN",
        "outputId": "15019b56-b40e-4a67-98ea-26b176f9e88e"
      },
      "execution_count": 20,
      "outputs": [
        {
          "output_type": "stream",
          "name": "stdout",
          "text": [
            "[2.541018009185791, 1.3725075721740723, 1.0236698389053345, 0.8096528053283691, 0.6489364504814148, 0.522860050201416, 0.4177232086658478, 0.3457637429237366, 0.2856306731700897, 0.2415054589509964]\n",
            "[1.6964181661605835, 1.3283628225326538, 1.138674020767212, 1.0371688604354858, 0.9813781976699829, 0.9389790296554565, 0.9455946087837219, 0.9022064208984375, 0.9827287793159485, 0.9080370664596558]\n"
          ]
        }
      ]
    },
    {
      "cell_type": "code",
      "source": [
        "loss = history.history['loss']\n",
        "val_loss = history.history['val_loss']\n",
        "epochs = range(1, len(loss) + 1)\n",
        "plt.plot(epochs, loss, 'bo', label='Training loss')\n",
        "plt.plot(epochs, val_loss, 'b', label='Validation loss')\n",
        "plt.title('Training and validation loss')\n",
        "plt.xlabel('Epochs')\n",
        "plt.ylabel('Loss')\n",
        "plt.legend()\n",
        "plt.show()"
      ],
      "metadata": {
        "colab": {
          "base_uri": "https://localhost:8080/",
          "height": 295
        },
        "id": "uZDq1wqFoNNh",
        "outputId": "406bc787-c7da-4a01-be3c-bbf2eb72c1c7"
      },
      "execution_count": 21,
      "outputs": [
        {
          "output_type": "display_data",
          "data": {
            "text/plain": [
              "<Figure size 432x288 with 1 Axes>"
            ],
            "image/png": "[encoded data removed]"
          },
          "metadata": {
            "needs_background": "light"
          }
        }
      ]
    },
    {
      "cell_type": "code",
      "source": [
        "plt.clf()\n",
        "\n",
        "acc = history.history['accuracy']\n",
        "val_acc = history.history['val_accuracy']\n",
        "plt.plot(epochs, acc, 'bo', label='Training acc')\n",
        "plt.plot(epochs, val_acc, 'b', label='Validation acc')\n",
        "plt.title('Training and validation accuracy')\n",
        "plt.xlabel('Epochs')\n",
        "plt.ylabel('Loss')\n",
        "plt.legend()\n",
        "plt.show()"
      ],
      "metadata": {
        "colab": {
          "base_uri": "https://localhost:8080/",
          "height": 295
        },
        "id": "WmGvgofjpV9q",
        "outputId": "77af239f-f87a-4b3c-e1bf-c697e15d23dc"
      },
      "execution_count": 22,
      "outputs": [
        {
          "output_type": "display_data",
          "data": {
            "text/plain": [
              "<Figure size 432x288 with 1 Axes>"
            ],
            "image/png": "[encoded data removed]"
          },
          "metadata": {
            "needs_background": "light"
          }
        }
      ]
    },
    {
      "cell_type": "code",
      "source": [
        "test_labels_copy=copy.copy(test_labels)\n",
        "np.random.shuffle(test_labels_copy)\n",
        "hits_array = np.array(test_labels) == np.array(test_labels_copy)\n",
        "float(np.sum(hits_array)) / len(test_labels)"
      ],
      "metadata": {
        "id": "jgaCm1gRpsxk",
        "colab": {
          "base_uri": "https://localhost:8080/"
        },
        "outputId": "a01c764f-a389-4253-dac4-b82e3c8e042e"
      },
      "execution_count": 17,
      "outputs": [
        {
          "output_type": "execute_result",
          "data": {
            "text/plain": [
              "0.19634906500445237"
            ]
          },
          "metadata": {},
          "execution_count": 17
        }
      ]
    },
    {
      "cell_type": "code",
      "source": [
        "predictions=network.predict(x_test)\n",
        "predictions.shape"
      ],
      "metadata": {
        "colab": {
          "base_uri": "https://localhost:8080/"
        },
        "id": "XXzu9Q3ZQGJ_",
        "outputId": "8cffe175-d754-4a90-9059-0c4e82ac984c"
      },
      "execution_count": 35,
      "outputs": [
        {
          "output_type": "execute_result",
          "data": {
            "text/plain": [
              "(2246, 46)"
            ]
          },
          "metadata": {},
          "execution_count": 35
        }
      ]
    },
    {
      "cell_type": "code",
      "source": [
        "np.sum(predictions[0])"
      ],
      "metadata": {
        "colab": {
          "base_uri": "https://localhost:8080/"
        },
        "id": "_xcgzLnYTEZK",
        "outputId": "83d523f7-e37d-4dc5-c3dc-29d25a5197f2"
      },
      "execution_count": 36,
      "outputs": [
        {
          "output_type": "execute_result",
          "data": {
            "text/plain": [
              "0.9999999"
            ]
          },
          "metadata": {},
          "execution_count": 36
        }
      ]
    },
    {
      "cell_type": "code",
      "source": [
        "np.argmax(predictions[1])\n",
        "#The largest entry is the predicted class—the class with the highest probability:"
      ],
      "metadata": {
        "colab": {
          "base_uri": "https://localhost:8080/"
        },
        "id": "QcfqJWY4T9Z7",
        "outputId": "de2b885b-e3ba-4b0b-a210-35940e001cb1"
      },
      "execution_count": 46,
      "outputs": [
        {
          "output_type": "execute_result",
          "data": {
            "text/plain": [
              "4"
            ]
          },
          "metadata": {},
          "execution_count": 46
        }
      ]
    },
    {
      "cell_type": "code",
      "source": [
        ""
      ],
      "metadata": {
        "id": "Z0_c0UpMUJzm"
      },
      "execution_count": null,
      "outputs": []
    }
  ]
}