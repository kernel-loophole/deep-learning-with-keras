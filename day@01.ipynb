{
  "nbformat": 4,
  "nbformat_minor": 0,
  "metadata": {
    "colab": {
      "name": "keras@01.ipynb",
      "provenance": [],
      "collapsed_sections": []
    },
    "kernelspec": {
      "name": "python3",
      "display_name": "Python 3"
    },
    "language_info": {
      "name": "python"
    }
  },
  "cells": [
    {
      "cell_type": "code",
      "execution_count": 40,
      "metadata": {
        "id": "ccu2J7JdCk4w"
      },
      "outputs": [],
      "source": [
        "from keras.datasets import mnist\n",
        "from keras import layers\n",
        "from keras import models\n",
        "from tensorflow.keras.utils import to_categorical\n",
        "from matplotlib import pyplot\n",
        "(train_images,train_labels),(test_images,test_labels)=mnist.load_data()\n",
        "\n",
        "\n"
      ]
    },
    {
      "cell_type": "code",
      "source": [
        "train_images.shape\n",
        "# print(train_image)\n",
        "#it’s an array of 60,000 matrices of 28 × 8 integers.\n",
        "print(\"data type \",train_images.dtype)\n",
        "print(\"dimesion \",train_images.ndim)\n",
        "print(\"shape \",train_images.shape)\n",
        "\n",
        "for i in range(3):  \n",
        "  pyplot.subplot(330 + 1 + i)\n",
        "  pyplot.imshow(train_images[i], cmap=pyplot.get_cmap('gray'))\n",
        "  pyplot.show()"
      ],
      "metadata": {
        "colab": {
          "base_uri": "https://localhost:8080/",
          "height": 363
        },
        "id": "ADB0_sXrCmbu",
        "outputId": "3482e3d2-72ea-4f7f-9ad2-b40732bc5772"
      },
      "execution_count": 41,
      "outputs": [
        {
          "output_type": "stream",
          "name": "stdout",
          "text": [
            "data type  uint8\n",
            "dimesion  3\n",
            "shape  (60000, 28, 28)\n"
          ]
        },
        {
          "output_type": "display_data",
          "data": {
            "text/plain": [
              "<Figure size 432x288 with 1 Axes>"
            ],
            "image/png": "[encoded data removed]"
          },
          "metadata": {
            "needs_background": "light"
          }
        },
        {
          "output_type": "display_data",
          "data": {
            "text/plain": [
              "<Figure size 432x288 with 1 Axes>"
            ],
            "image/png": "[encoded data removed]"
          },
          "metadata": {
            "needs_background": "light"
          }
        },
        {
          "output_type": "display_data",
          "data": {
            "text/plain": [
              "<Figure size 432x288 with 1 Axes>"
            ],
            "image/png": "[encoded data removed]"
          },
          "metadata": {
            "needs_background": "light"
          }
        }
      ]
    },
    {
      "cell_type": "code",
      "source": [
        "slicing=train_images[10:100,0:28,0:28]\n",
        "print(slicing.shape)\n",
        "pyplot.imshow(slicing[1], cmap=pyplot.get_cmap('gray'))\n",
        "pyplot.show()\n"
      ],
      "metadata": {
        "colab": {
          "base_uri": "https://localhost:8080/",
          "height": 282
        },
        "id": "ESmaxdbNC7tZ",
        "outputId": "c3900dd4-24f5-4267-a2b8-d1101eb74bcb"
      },
      "execution_count": 42,
      "outputs": [
        {
          "output_type": "stream",
          "name": "stdout",
          "text": [
            "(90, 28, 28)\n"
          ]
        },
        {
          "output_type": "display_data",
          "data": {
            "text/plain": [
              "<Figure size 432x288 with 1 Axes>"
            ],
            "image/png": "[encoded data removed]"
          },
          "metadata": {
            "needs_background": "light"
          }
        }
      ]
    },
    {
      "cell_type": "code",
      "source": [
        "train_labels"
      ],
      "metadata": {
        "colab": {
          "base_uri": "https://localhost:8080/"
        },
        "id": "raTEa_0HDNZr",
        "outputId": "135a4146-d53a-406e-95cc-7bbaecf5194d"
      },
      "execution_count": 43,
      "outputs": [
        {
          "output_type": "execute_result",
          "data": {
            "text/plain": [
              "array([5, 0, 4, ..., 5, 6, 8], dtype=uint8)"
            ]
          },
          "metadata": {},
          "execution_count": 43
        }
      ]
    },
    {
      "cell_type": "code",
      "source": [
        "\n",
        "test_images.shape\n"
      ],
      "metadata": {
        "colab": {
          "base_uri": "https://localhost:8080/"
        },
        "id": "3vWDE_JEDYJi",
        "outputId": "c1d92e1d-81ad-4c77-9a50-0be73562167b"
      },
      "execution_count": 44,
      "outputs": [
        {
          "output_type": "execute_result",
          "data": {
            "text/plain": [
              "(10000, 28, 28)"
            ]
          },
          "metadata": {},
          "execution_count": 44
        }
      ]
    },
    {
      "cell_type": "code",
      "source": [
        "network=models.Sequential()\n",
        "#in back what actually relu functio do?\n",
        "# output = relu(dot(W, input) + b)\n",
        "#check the naive_relu fn\n",
        "network.add(layers.Dense(512,activation=\"relu\",input_shape=(28*28,)))\n",
        "x=network.add(layers.Dense(512,activation=\"relu\",input_shape=(28*28,)))\n",
        "network.add(layers.Dense(10,activation=\"relu\"))\n",
        "#In this expression, W and b are tensors that are attributes of the layer. They’re called\n",
        "#the weights or trainable parameters of the layer (the kernel and bias attributes, respectively). These weights contain the information learned by the network from exposure\n",
        "#to training data.\n",
        "network.summary()"
      ],
      "metadata": {
        "id": "AmOTIiBrDhPF",
        "colab": {
          "base_uri": "https://localhost:8080/"
        },
        "outputId": "c9149d9b-9e38-4455-a1b5-4bc69a844aee"
      },
      "execution_count": 45,
      "outputs": [
        {
          "output_type": "stream",
          "name": "stdout",
          "text": [
            "Model: \"sequential_6\"\n",
            "_________________________________________________________________\n",
            " Layer (type)                Output Shape              Param #   \n",
            "=================================================================\n",
            " dense_17 (Dense)            (None, 512)               401920    \n",
            "                                                                 \n",
            " dense_18 (Dense)            (None, 512)               262656    \n",
            "                                                                 \n",
            " dense_19 (Dense)            (None, 10)                5130      \n",
            "                                                                 \n",
            "=================================================================\n",
            "Total params: 669,706\n",
            "Trainable params: 669,706\n",
            "Non-trainable params: 0\n",
            "_________________________________________________________________\n"
          ]
        }
      ]
    },
    {
      "cell_type": "code",
      "source": [
        "network.compile(optimizer='rmsprop',loss='categorical_crossentropy',metrics=['accuracy'])"
      ],
      "metadata": {
        "id": "EwpMekg4F4PD"
      },
      "execution_count": 46,
      "outputs": []
    },
    {
      "cell_type": "code",
      "source": [
        "#reshaping it into the shape the network expects and scaling it so that all values are in the [0, 1] interval. Previously, our train-\n",
        "#ing images, for instance, were stored in an array of shape (60000, 28, 28) of type\n",
        "#int8 with values in the [0, 255] interval.\n",
        "train_images = train_images.reshape((60000, 28 * 28))\n",
        "train_images = train_images.astype('float32') / 255\n",
        "test_images = test_images.reshape((10000, 28 * 28))\n",
        "test_images = test_images.astype('float32') / 255"
      ],
      "metadata": {
        "id": "-4K54INFHP6B"
      },
      "execution_count": 47,
      "outputs": []
    },
    {
      "cell_type": "code",
      "source": [
        "#Converts a class vector (integers) to binary class matrix.\n",
        "print(train_labels.shape)\n",
        "train_labels = to_categorical(train_labels)\n",
        "\n",
        "test_labels = to_categorical(test_labels)\n",
        "print(\"after\")\n",
        "print(train_labels.shape)"
      ],
      "metadata": {
        "colab": {
          "base_uri": "https://localhost:8080/"
        },
        "id": "zDgspSItHXdc",
        "outputId": "fc3ac4bc-e032-4a67-8a99-1aaf3e8ed129"
      },
      "execution_count": 48,
      "outputs": [
        {
          "output_type": "stream",
          "name": "stdout",
          "text": [
            "(60000,)\n",
            "after\n",
            "(60000, 10)\n"
          ]
        }
      ]
    },
    {
      "cell_type": "code",
      "source": [
        "\n",
        "network.fit(train_images,train_labels,epochs=5,batch_size=128)"
      ],
      "metadata": {
        "colab": {
          "base_uri": "https://localhost:8080/"
        },
        "id": "FRdpS3F8IjZy",
        "outputId": "ad1cc6b1-8eac-4171-ffd8-02ba2ebf0fe4"
      },
      "execution_count": 49,
      "outputs": [
        {
          "output_type": "stream",
          "name": "stdout",
          "text": [
            "Epoch 1/5\n",
            "469/469 [==============================] - 9s 18ms/step - loss: nan - accuracy: 0.1072\n",
            "Epoch 2/5\n",
            "469/469 [==============================] - 8s 18ms/step - loss: nan - accuracy: 0.0987\n",
            "Epoch 3/5\n",
            "469/469 [==============================] - 8s 18ms/step - loss: nan - accuracy: 0.0987\n",
            "Epoch 4/5\n",
            "469/469 [==============================] - 8s 18ms/step - loss: nan - accuracy: 0.0987\n",
            "Epoch 5/5\n",
            "469/469 [==============================] - 8s 17ms/step - loss: nan - accuracy: 0.0987\n"
          ]
        },
        {
          "output_type": "execute_result",
          "data": {
            "text/plain": [
              "<keras.callbacks.History at 0x7f884e304790>"
            ]
          },
          "metadata": {},
          "execution_count": 49
        }
      ]
    },
    {
      "cell_type": "code",
      "source": [
        "test_loss,test_accu=network.evaluate(test_images,test_labels)"
      ],
      "metadata": {
        "colab": {
          "base_uri": "https://localhost:8080/"
        },
        "id": "Ed2W-eG4Jjmy",
        "outputId": "ef3b01be-be8b-4bdd-9240-a0c033d0f83a"
      },
      "execution_count": 50,
      "outputs": [
        {
          "output_type": "stream",
          "name": "stdout",
          "text": [
            "313/313 [==============================] - 1s 4ms/step - loss: nan - accuracy: 0.0980\n"
          ]
        }
      ]
    },
    {
      "cell_type": "code",
      "source": [
        "print(\"test accuracy is =\",test_accu)"
      ],
      "metadata": {
        "colab": {
          "base_uri": "https://localhost:8080/"
        },
        "id": "YFAd4YSQKu1-",
        "outputId": "90f4e6e7-27fc-4db5-99ab-3d871daa8ca7"
      },
      "execution_count": 51,
      "outputs": [
        {
          "output_type": "stream",
          "name": "stdout",
          "text": [
            "test accuracy is = 0.09799999743700027\n"
          ]
        }
      ]
    },
    {
      "cell_type": "code",
      "source": [
        "#Relu activation function \n",
        "# element wise operation\n",
        "def naive_relu(x):\n",
        "  assert len(x.shape)==2\n",
        "  x=x.copy()\n",
        "  for i in range(x.shape[0]):\n",
        "    for j in range(x.shape[1]):\n",
        "      x[i,j]=max(x[i,j],0)\n",
        "  return x"
      ],
      "metadata": {
        "id": "yeJoOQkoKyEi"
      },
      "execution_count": 52,
      "outputs": []
    },
    {
      "cell_type": "code",
      "source": [
        ""
      ],
      "metadata": {
        "id": "iRJVfwaBTaK2"
      },
      "execution_count": null,
      "outputs": []
    },
    {
      "cell_type": "code",
      "source": [
        ""
      ],
      "metadata": {
        "id": "aEGdhUsOT0IM"
      },
      "execution_count": null,
      "outputs": []
    }
  ]
}