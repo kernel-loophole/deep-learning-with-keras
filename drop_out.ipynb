{
  "nbformat": 4,
  "nbformat_minor": 0,
  "metadata": {
    "colab": {
      "name": "drop_out.ipynb",
      "provenance": [],
      "collapsed_sections": []
    },
    "kernelspec": {
      "name": "python3",
      "display_name": "Python 3"
    },
    "language_info": {
      "name": "python"
    }
  },
  "cells": [
    {
      "cell_type": "code",
      "execution_count": 15,
      "metadata": {
        "id": "jD8vC-lwKERs"
      },
      "outputs": [],
      "source": [
        "import numpy as np \n",
        "from keras import models\n",
        "from keras import layers"
      ]
    },
    {
      "cell_type": "code",
      "source": [
        "#drop out the values randomly\n",
        "layer_output=1\n",
        "layer_output *= np.random.randint(0.1, high=5.5, size=16)\n",
        "layer_output /0.5\n",
        "layer_output"
      ],
      "metadata": {
        "colab": {
          "base_uri": "https://localhost:8080/"
        },
        "id": "FTW-6GjkKL0N",
        "outputId": "f0af7066-b843-4f70-ad65-7301dd87cf09"
      },
      "execution_count": 16,
      "outputs": [
        {
          "output_type": "execute_result",
          "data": {
            "text/plain": [
              "array([4, 1, 4, 3, 4, 3, 4, 1, 1, 4, 1, 3, 0, 4, 4, 4])"
            ]
          },
          "metadata": {},
          "execution_count": 16
        }
      ]
    },
    {
      "cell_type": "markdown",
      "source": [
        "## **this can be done in pre bulid keras dropout layer**"
      ],
      "metadata": {
        "id": "b5hSvlDtM2yx"
      }
    },
    {
      "cell_type": "code",
      "source": [
        "#this can be done in keras \n",
        "model = models.Sequential()\n",
        "model.add(layers.Dense(16, activation='relu', input_shape=(10000,)))\n",
        "#drop out functionality in keras \n",
        "model.add(layers.Dropout(0.5))\n",
        "\n",
        "model.add(layers.Dense(16, activation='relu'))\n",
        "model.add(layers.Dropout(0.5))\n",
        "model.add(layers.Dense(1, activation='sigmoid'))"
      ],
      "metadata": {
        "id": "V4oTputxKjV-"
      },
      "execution_count": 18,
      "outputs": []
    },
    {
      "cell_type": "code",
      "source": [
        ""
      ],
      "metadata": {
        "id": "k5ZlEqomM1AH"
      },
      "execution_count": null,
      "outputs": []
    }
  ]
}