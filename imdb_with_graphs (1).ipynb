{
  "nbformat": 4,
  "nbformat_minor": 0,
  "metadata": {
    "colab": {
      "name": "imdb_with_graphs.ipynb",
      "provenance": []
    },
    "kernelspec": {
      "name": "python3",
      "display_name": "Python 3"
    },
    "language_info": {
      "name": "python"
    },
    "accelerator": "TPU"
  },
  "cells": [
    {
      "cell_type": "code",
      "execution_count": 4,
      "metadata": {
        "id": "l6Yc8OXKgxTn"
      },
      "outputs": [],
      "source": [
        "from keras.datasets import imdb\n",
        "from keras import layers\n",
        "from keras import models\n",
        "import numpy as np\n"
      ]
    },
    {
      "cell_type": "code",
      "source": [
        "(train_data,train_label),(test_data,test_label)=imdb.load_data(num_words=10000)"
      ],
      "metadata": {
        "id": "YEV7wVFohfBe"
      },
      "execution_count": 5,
      "outputs": []
    },
    {
      "cell_type": "code",
      "source": [
        "def vectroize(sequence,dimension=10000):\n",
        "  results=np.zeros((len(sequence),10000))\n",
        "  for i,sequence in enumerate(sequence):\n",
        "    results[i,sequence]=1.\n",
        "  return results\n",
        "x_train=vectroize(train_data)\n",
        "x_test=vectroize(test_data)\n",
        "\n",
        "y_train = np.asarray(train_label).astype('float32')\n",
        "y_test = np.asarray(test_label).astype('float32')\n",
        "\n",
        "y_train"
      ],
      "metadata": {
        "colab": {
          "base_uri": "https://localhost:8080/"
        },
        "id": "pUhiLJZNiEj_",
        "outputId": "b3dbee05-d26d-481a-dcfe-1487e24b0686"
      },
      "execution_count": 6,
      "outputs": [
        {
          "output_type": "execute_result",
          "data": {
            "text/plain": [
              "array([1., 0., 0., ..., 0., 1., 0.], dtype=float32)"
            ]
          },
          "metadata": {},
          "execution_count": 6
        }
      ]
    },
    {
      "cell_type": "code",
      "source": [
        "model=models.Sequential()\n",
        "model.add(layers.Dense(16,activation=\"relu\"))\n",
        "\n",
        "model.add(layers.Dense(16,activation=\"relu\"))\n",
        "\n",
        "model.add(layers.Dense(1,activation=\"sigmoid\"))"
      ],
      "metadata": {
        "id": "axexAJ8NkLiL"
      },
      "execution_count": 7,
      "outputs": []
    },
    {
      "cell_type": "code",
      "source": [
        "word_index=imdb.get_word_index()\n"
      ],
      "metadata": {
        "id": "AzSismotkYuU"
      },
      "execution_count": 32,
      "outputs": []
    },
    {
      "cell_type": "code",
      "source": [
        "model.compile(optimizer=\"rmsprop\",loss=\"binary_crossentropy\",metrics=[\"accuracy\"])"
      ],
      "metadata": {
        "id": "yWFj8zsXkmnB"
      },
      "execution_count": 9,
      "outputs": []
    },
    {
      "cell_type": "code",
      "source": [
        "x_val=x_train[:10000]\n",
        "partial_train_x=x_train[10000:]\n",
        "y_val=y_train[:10000]\n",
        "partial_train_y=y_train[10000:]"
      ],
      "metadata": {
        "id": "Mc5BbCmsmWq7"
      },
      "execution_count": 10,
      "outputs": []
    },
    {
      "cell_type": "code",
      "source": [
        "result=model.fit(partial_train_x,partial_train_y,epochs=4,batch_size=512)\n",
        "result"
      ],
      "metadata": {
        "colab": {
          "base_uri": "https://localhost:8080/"
        },
        "id": "HkUFXvnrmbo_",
        "outputId": "221494b4-a2e1-4f48-da26-3a0752a0c69a"
      },
      "execution_count": 11,
      "outputs": [
        {
          "output_type": "stream",
          "name": "stdout",
          "text": [
            "Epoch 1/4\n",
            "30/30 [==============================] - 2s 29ms/step - loss: 0.5339 - accuracy: 0.7847\n",
            "Epoch 2/4\n",
            "30/30 [==============================] - 1s 29ms/step - loss: 0.3254 - accuracy: 0.9028\n",
            "Epoch 3/4\n",
            "30/30 [==============================] - 1s 29ms/step - loss: 0.2376 - accuracy: 0.9273\n",
            "Epoch 4/4\n",
            "30/30 [==============================] - 1s 29ms/step - loss: 0.1867 - accuracy: 0.9417\n"
          ]
        },
        {
          "output_type": "execute_result",
          "data": {
            "text/plain": [
              "<keras.callbacks.History at 0x7f0943c8cf10>"
            ]
          },
          "metadata": {},
          "execution_count": 11
        }
      ]
    },
    {
      "cell_type": "code",
      "source": [
        "\n",
        "history=model.fit(partial_train_x,partial_train_y,epochs=4,batch_size=512,validation_data=(x_val,y_val))"
      ],
      "metadata": {
        "colab": {
          "base_uri": "https://localhost:8080/"
        },
        "id": "7i5iLZX1mc2r",
        "outputId": "a9936666-9b18-4b0f-c144-e547820ccaa3"
      },
      "execution_count": 15,
      "outputs": [
        {
          "output_type": "stream",
          "name": "stdout",
          "text": [
            "Epoch 1/4\n",
            "30/30 [==============================] - 1s 45ms/step - loss: 9.9433e-04 - accuracy: 1.0000 - val_loss: 0.8541 - val_accuracy: 0.8640\n",
            "Epoch 2/4\n",
            "30/30 [==============================] - 1s 36ms/step - loss: 0.0024 - accuracy: 0.9995 - val_loss: 0.8913 - val_accuracy: 0.8624\n",
            "Epoch 3/4\n",
            "30/30 [==============================] - 1s 37ms/step - loss: 5.6971e-04 - accuracy: 1.0000 - val_loss: 0.9128 - val_accuracy: 0.8616\n",
            "Epoch 4/4\n",
            "30/30 [==============================] - 1s 37ms/step - loss: 4.6379e-04 - accuracy: 1.0000 - val_loss: 1.0499 - val_accuracy: 0.8569\n"
          ]
        }
      ]
    },
    {
      "cell_type": "code",
      "source": [
        "model.predict(x_test)\n",
        "# histroy_dict=history.history\n",
        "# histroy_dict.keys()"
      ],
      "metadata": {
        "id": "AI-8vhe_mz5Z"
      },
      "execution_count": null,
      "outputs": []
    },
    {
      "cell_type": "code",
      "source": [
        "from keras.metrics import accuracy\n",
        "import matplotlib.pyplot as plt\n",
        "histroy_dict=history.history\n",
        "histroy_dict.keys()\n",
        "loss=histroy_dict[\"loss\"]\n",
        "acc=histroy_dict[\"accuracy\"]\n",
        "val_loss=histroy_dict[\"val_loss\"]\n",
        "print(loss)"
      ],
      "metadata": {
        "colab": {
          "base_uri": "https://localhost:8080/"
        },
        "id": "41_8_relnY77",
        "outputId": "dbb96720-fdf0-41cf-be46-e4177c34ea11"
      },
      "execution_count": 21,
      "outputs": [
        {
          "output_type": "stream",
          "name": "stdout",
          "text": [
            "[0.000994329690001905, 0.002365587279200554, 0.0005697091692127287, 0.0004637931124307215]\n"
          ]
        }
      ]
    },
    {
      "cell_type": "code",
      "source": [
        "epochs=range(1,len(acc)+1)"
      ],
      "metadata": {
        "id": "c35kFvDcoILo"
      },
      "execution_count": 22,
      "outputs": []
    },
    {
      "cell_type": "code",
      "source": [
        "plt.plot(epochs, loss, 'bo', label='Training loss')\n",
        "plt.plot(epochs, val_loss, 'b', label='Validation loss')\n",
        "plt.title('Training and validation loss')\n",
        "plt.xlabel('Epochs')\n",
        "\n",
        "plt.ylabel('Loss')\n",
        "plt.legend()\n"
      ],
      "metadata": {
        "colab": {
          "base_uri": "https://localhost:8080/",
          "height": 312
        },
        "id": "bNi37NKgofvE",
        "outputId": "06db8839-2981-420c-84d2-892753a53695"
      },
      "execution_count": 23,
      "outputs": [
        {
          "output_type": "execute_result",
          "data": {
            "text/plain": [
              "<matplotlib.legend.Legend at 0x7f09389a2490>"
            ]
          },
          "metadata": {},
          "execution_count": 23
        },
        {
          "output_type": "display_data",
          "data": {
            "text/plain": [
              "<Figure size 432x288 with 1 Axes>"
            ],
            "image/png": "[encoded data removed]"
          },
          "metadata": {
            "needs_background": "light"
          }
        }
      ]
    },
    {
      "cell_type": "code",
      "source": [
        ""
      ],
      "metadata": {
        "id": "JlORUkCYotn-"
      },
      "execution_count": null,
      "outputs": []
    }
  ]
}