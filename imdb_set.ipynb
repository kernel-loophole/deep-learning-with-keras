{
  "nbformat": 4,
  "nbformat_minor": 0,
  "metadata": {
    "colab": {
      "name": "Untitled5.ipynb",
      "provenance": [],
      "collapsed_sections": []
    },
    "kernelspec": {
      "name": "python3",
      "display_name": "Python 3"
    },
    "language_info": {
      "name": "python"
    }
  },
  "cells": [
    {
      "cell_type": "code",
      "execution_count": 43,
      "metadata": {
        "id": "cqrX5oOCIGQO"
      },
      "outputs": [],
      "source": [
        "#IMDB DATASET  for review\n",
        "from keras import layers\n",
        "from keras import models\n",
        "from keras.datasets import imdb\n",
        "import numpy as np"
      ]
    },
    {
      "cell_type": "code",
      "source": [
        "from keras_preprocessing import sequence\n",
        "(train_data,train_labels),(test_data,test_labels)=imdb.load_data(num_words=10000)\n",
        "train_data[0]\n",
        "# max for num_words\n",
        "maxi=max([max(sequence) for sequence in train_data])\n",
        "maxi"
      ],
      "metadata": {
        "colab": {
          "base_uri": "https://localhost:8080/"
        },
        "id": "SzdkPV5sIKT5",
        "outputId": "02a0ebc8-93b7-4d73-d2a1-bcf7208a3f05"
      },
      "execution_count": 50,
      "outputs": [
        {
          "output_type": "execute_result",
          "data": {
            "text/plain": [
              "9999"
            ]
          },
          "metadata": {},
          "execution_count": 50
        }
      ]
    },
    {
      "cell_type": "code",
      "source": [
        "def vectroize(sequence,dimension=10000):\n",
        "  results=np.zeros((len(sequence),10000))\n",
        "  for i,sequence in enumerate(sequence):\n",
        "    results[i,sequence]=1.\n",
        "  return results\n",
        "x_train=vectroize(train_data)\n",
        "x_test=vectroize(test_data)\n",
        "\n",
        "y_train = np.asarray(train_labels).astype('float32')\n",
        "y_test = np.asarray(test_labels).astype('float32')"
      ],
      "metadata": {
        "id": "MW2aIdIwISwU"
      },
      "execution_count": 54,
      "outputs": []
    },
    {
      "cell_type": "code",
      "source": [
        "model=models.Sequential()\n",
        "model.add(layers.Dense(16,activation=\"relu\"))\n",
        "\n",
        "model.add(layers.Dense(16,activation=\"relu\"))\n",
        "\n",
        "model.add(layers.Dense(1,activation=\"sigmoid\"))\n",
        "#The second layer didn’t receive an input shape argument—instead, it automatically\n",
        "#inferred its input shape as being the output shape of the layer that came before."
      ],
      "metadata": {
        "id": "KWwbHagKIVvV"
      },
      "execution_count": 55,
      "outputs": []
    },
    {
      "cell_type": "code",
      "source": [
        "model.compile(optimizer=\"rmsprop\",loss=\"binary_crossentropy\",metrics=[\"accuracy\"])"
      ],
      "metadata": {
        "id": "bhQkaBewI4lE"
      },
      "execution_count": 56,
      "outputs": []
    },
    {
      "cell_type": "code",
      "source": [
        "x_val=x_train[:10000]\n",
        "partial_train_x=x_train[10000:]\n",
        "y_val=y_train[:10000]\n",
        "partial_train_y=y_train[10000:]\n"
      ],
      "metadata": {
        "id": "DBpdJh_kRwaU"
      },
      "execution_count": 57,
      "outputs": []
    },
    {
      "cell_type": "code",
      "source": [
        "model.fit(partial_train_x,partial_train_y,epochs=20,batch_size=512)"
      ],
      "metadata": {
        "colab": {
          "base_uri": "https://localhost:8080/"
        },
        "id": "14fcbZrzSXaa",
        "outputId": "8dcb145e-e56c-47c7-da1a-5831352e0526"
      },
      "execution_count": 59,
      "outputs": [
        {
          "output_type": "stream",
          "name": "stdout",
          "text": [
            "Epoch 1/20\n",
            "30/30 [==============================] - 1s 28ms/step - loss: 0.1202 - accuracy: 0.9649\n",
            "Epoch 2/20\n",
            "30/30 [==============================] - 1s 28ms/step - loss: 0.1013 - accuracy: 0.9715\n",
            "Epoch 3/20\n",
            "30/30 [==============================] - 1s 28ms/step - loss: 0.0863 - accuracy: 0.9755\n",
            "Epoch 4/20\n",
            "30/30 [==============================] - 1s 27ms/step - loss: 0.0722 - accuracy: 0.9799\n",
            "Epoch 5/20\n",
            "30/30 [==============================] - 1s 27ms/step - loss: 0.0568 - accuracy: 0.9862\n",
            "Epoch 6/20\n",
            "30/30 [==============================] - 1s 27ms/step - loss: 0.0478 - accuracy: 0.9891\n",
            "Epoch 7/20\n",
            "30/30 [==============================] - 1s 28ms/step - loss: 0.0395 - accuracy: 0.9913\n",
            "Epoch 8/20\n",
            "30/30 [==============================] - 1s 28ms/step - loss: 0.0296 - accuracy: 0.9944\n",
            "Epoch 9/20\n",
            "30/30 [==============================] - 1s 27ms/step - loss: 0.0255 - accuracy: 0.9959\n",
            "Epoch 10/20\n",
            "30/30 [==============================] - 1s 27ms/step - loss: 0.0195 - accuracy: 0.9970\n",
            "Epoch 11/20\n",
            "30/30 [==============================] - 1s 27ms/step - loss: 0.0182 - accuracy: 0.9968\n",
            "Epoch 12/20\n",
            "30/30 [==============================] - 1s 27ms/step - loss: 0.0097 - accuracy: 0.9995\n",
            "Epoch 13/20\n",
            "30/30 [==============================] - 1s 28ms/step - loss: 0.0106 - accuracy: 0.9989\n",
            "Epoch 14/20\n",
            "30/30 [==============================] - 1s 28ms/step - loss: 0.0088 - accuracy: 0.9987\n",
            "Epoch 15/20\n",
            "30/30 [==============================] - 1s 28ms/step - loss: 0.0043 - accuracy: 0.9999\n",
            "Epoch 16/20\n",
            "30/30 [==============================] - 1s 27ms/step - loss: 0.0075 - accuracy: 0.9987\n",
            "Epoch 17/20\n",
            "30/30 [==============================] - 1s 28ms/step - loss: 0.0025 - accuracy: 0.9999\n",
            "Epoch 18/20\n",
            "30/30 [==============================] - 1s 27ms/step - loss: 0.0062 - accuracy: 0.9983\n",
            "Epoch 19/20\n",
            "30/30 [==============================] - 1s 28ms/step - loss: 0.0016 - accuracy: 0.9999\n",
            "Epoch 20/20\n",
            "30/30 [==============================] - 1s 27ms/step - loss: 0.0039 - accuracy: 0.9993\n"
          ]
        },
        {
          "output_type": "execute_result",
          "data": {
            "text/plain": [
              "<keras.callbacks.History at 0x7f33f3fc5150>"
            ]
          },
          "metadata": {},
          "execution_count": 59
        }
      ]
    },
    {
      "cell_type": "code",
      "source": [
        "x,y=model.evaluate(x_val,y_val)"
      ],
      "metadata": {
        "colab": {
          "base_uri": "https://localhost:8080/"
        },
        "id": "n9jYOnsSUl6D",
        "outputId": "b7c9445f-c027-4cbd-9c7f-c49d9e7be048"
      },
      "execution_count": 61,
      "outputs": [
        {
          "output_type": "stream",
          "name": "stdout",
          "text": [
            "313/313 [==============================] - 1s 2ms/step - loss: 0.8372 - accuracy: 0.8641\n"
          ]
        }
      ]
    },
    {
      "cell_type": "code",
      "source": [
        "x"
      ],
      "metadata": {
        "colab": {
          "base_uri": "https://localhost:8080/"
        },
        "id": "T0xjJiXbUzfX",
        "outputId": "1a0f0948-9253-4ba4-dc6b-f61a2b9a2e85"
      },
      "execution_count": 62,
      "outputs": [
        {
          "output_type": "execute_result",
          "data": {
            "text/plain": [
              "0.8371675610542297"
            ]
          },
          "metadata": {},
          "execution_count": 62
        }
      ]
    },
    {
      "cell_type": "code",
      "source": [
        "y"
      ],
      "metadata": {
        "colab": {
          "base_uri": "https://localhost:8080/"
        },
        "id": "Z9TnhnlUVFVa",
        "outputId": "191c649b-b779-4f1a-86ef-59ec8aafb4b6"
      },
      "execution_count": 63,
      "outputs": [
        {
          "output_type": "execute_result",
          "data": {
            "text/plain": [
              "0.8640999794006348"
            ]
          },
          "metadata": {},
          "execution_count": 63
        }
      ]
    },
    {
      "cell_type": "code",
      "source": [
        ""
      ],
      "metadata": {
        "id": "UYhWwkJDVGO_"
      },
      "execution_count": null,
      "outputs": []
    }
  ]
}